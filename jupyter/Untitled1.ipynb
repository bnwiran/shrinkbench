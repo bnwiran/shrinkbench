{
 "cells": [
  {
   "cell_type": "code",
   "execution_count": 1,
   "id": "736ef454-4d0c-453a-94bc-9614e846e7e0",
   "metadata": {},
   "outputs": [],
   "source": [
    "import os\n",
    "from IPython.display import clear_output\n",
    "\n",
    "os.chdir('C:/AI/projects')\n",
    "os.environ['DATAPATH'] = 'C:/AI/datasets'"
   ]
  },
  {
   "cell_type": "code",
   "execution_count": 2,
   "id": "d991b4ef-a76f-445f-958f-621f35344bb1",
   "metadata": {},
   "outputs": [],
   "source": [
    "from shrinkbench.models import MobileNetSmallV3\n",
    "from shrinkbench.datasets import CIFAR10\n",
    "from shrinkbench.experiment.train import Trainer\n",
    "import torch"
   ]
  },
  {
   "cell_type": "code",
   "execution_count": 3,
   "id": "570f1761-d79d-4d1c-86f5-ab360b51b80c",
   "metadata": {},
   "outputs": [
    {
     "name": "stdout",
     "output_type": "stream",
     "text": [
      "Found CIFAR10 under C:\\AI\\datasets\\CIFAR10\n",
      "Files already downloaded and verified\n",
      "Found CIFAR10 under C:\\AI\\datasets\\CIFAR10\n",
      "Files already downloaded and verified\n"
     ]
    }
   ],
   "source": [
    "train_dl = torch.utils.data.DataLoader(dataset=CIFAR10(train=True), batch_size=64, num_workers=4, shuffle=True)\n",
    "valid_dl = torch.utils.data.DataLoader(dataset=CIFAR10(train=False), batch_size=32, num_workers=4, shuffle=False)"
   ]
  },
  {
   "cell_type": "code",
   "execution_count": 4,
   "id": "dad63280-6d3c-498f-9e7c-593818beaadf",
   "metadata": {},
   "outputs": [
    {
     "name": "stdout",
     "output_type": "stream",
     "text": [
      "\u001b[93mGPU NOT AVAILABLE, USING CPU!\n",
      "\u001b[0m"
     ]
    }
   ],
   "source": [
    "model = MobileNetSmallV3(pretrained=True)\n",
    "optim = torch.optim.Adam(model.parameters(), lr=0.001)\n",
    "loss_func = torch.nn.CrossEntropyLoss()\n",
    "trainer = Trainer(model, '.', optim, loss_func, save_freq=10)"
   ]
  },
  {
   "cell_type": "code",
   "execution_count": 10,
   "id": "caaae776-a15e-44d7-922a-895de6305afc",
   "metadata": {},
   "outputs": [
    {
     "name": "stdout",
     "output_type": "stream",
     "text": [
      "VAL: 100%|==================================================================================================================================================| 313/313 [02:26<00:00,  2.14it/s, loss=0.0183, top1=0.801, top5=0.988]\n"
     ]
    },
    {
     "data": {
      "text/plain": [
       "{'val_loss': 0.018288881131135432,\n",
       " 'val_acc1': 0.8006190095846645,\n",
       " 'val_acc5': 0.9876198083067095}"
      ]
     },
     "execution_count": 10,
     "metadata": {},
     "output_type": "execute_result"
    }
   ],
   "source": [
    "trainer.evaluate(valid_dl)"
   ]
  },
  {
   "cell_type": "code",
   "execution_count": 9,
   "id": "0938c932-5757-463c-b71f-ee294790d05d",
   "metadata": {},
   "outputs": [],
   "source": [
    "from shrinkbench.strategies import RandomPruning\n",
    "from shrinkbench.metrics import flops, model_size"
   ]
  },
  {
   "cell_type": "code",
   "execution_count": 6,
   "id": "6ac1d176-5623-46f5-a42b-7c271c235c67",
   "metadata": {},
   "outputs": [],
   "source": [
    "img = torch.randn((1, 3, 224, 224))"
   ]
  },
  {
   "cell_type": "code",
   "execution_count": 10,
   "id": "cee94d4e-5607-4585-92e5-0b58c68504d5",
   "metadata": {},
   "outputs": [
    {
     "data": {
      "text/plain": [
       "((1842743808, 1842743808.0), (1528106, 1528106))"
      ]
     },
     "execution_count": 10,
     "metadata": {},
     "output_type": "execute_result"
    }
   ],
   "source": [
    "flops(model, img), model_size(model)"
   ]
  },
  {
   "cell_type": "code",
   "execution_count": 14,
   "id": "68d1a0f9-2e6e-4d56-9a48-d605faedee58",
   "metadata": {},
   "outputs": [],
   "source": [
    "compression = 2\n",
    "pruner = RandomPruning(model, compression=compression)\n",
    "pruner.apply();"
   ]
  },
  {
   "cell_type": "code",
   "execution_count": 15,
   "id": "b3ed9293-5ab9-44f9-ac56-06d8a2d00386",
   "metadata": {},
   "outputs": [
    {
     "data": {
      "text/plain": [
       "((1842743808, 907675301.0), (1528106, 764290))"
      ]
     },
     "execution_count": 15,
     "metadata": {},
     "output_type": "execute_result"
    }
   ],
   "source": [
    "flops(model, img), model_size(model)"
   ]
  },
  {
   "cell_type": "code",
   "execution_count": null,
   "id": "d1420b85-6743-4e57-95d3-549587988a37",
   "metadata": {},
   "outputs": [
    {
     "name": "stdout",
     "output_type": "stream",
     "text": [
      "Compression:  2\n",
      "VAL:  33%|================================================                                                                                                   | 103/313 [00:57<01:25,  2.47it/s, loss=0.603, top1=0.103, top5=0.496]"
     ]
    }
   ],
   "source": [
    "print('Compression: ', compression)\n",
    "trainer.evaluate(valid_dl)"
   ]
  },
  {
   "cell_type": "code",
   "execution_count": null,
   "id": "ab3752bd-c091-4703-bbde-17b29dcbccad",
   "metadata": {},
   "outputs": [],
   "source": []
  }
 ],
 "metadata": {
  "kernelspec": {
   "display_name": "Python 3 (ipykernel)",
   "language": "python",
   "name": "python3"
  },
  "language_info": {
   "codemirror_mode": {
    "name": "ipython",
    "version": 3
   },
   "file_extension": ".py",
   "mimetype": "text/x-python",
   "name": "python",
   "nbconvert_exporter": "python",
   "pygments_lexer": "ipython3",
   "version": "3.10.12"
  }
 },
 "nbformat": 4,
 "nbformat_minor": 5
}
