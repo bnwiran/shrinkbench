{
 "cells": [
  {
   "cell_type": "code",
   "execution_count": 1,
   "id": "cd691415-7c36-4d03-91c6-500f4d5872e6",
   "metadata": {},
   "outputs": [],
   "source": [
    "import os\n",
    "from IPython.display import clear_output\n",
    "\n",
    "os.chdir('C:/AI/projects')\n",
    "os.environ['DATAPATH'] = 'C:/AI/datasets'"
   ]
  },
  {
   "cell_type": "code",
   "execution_count": 2,
   "id": "c53f97a0-7343-4367-9ce7-50516de9e73c",
   "metadata": {},
   "outputs": [],
   "source": [
    "from shrinkbench.models import MobileNetSmallV3\n",
    "from shrinkbench.datasets import CIFAR10\n",
    "from shrinkbench.experiment.train import Trainer\n",
    "import torch"
   ]
  },
  {
   "cell_type": "code",
   "execution_count": 3,
   "id": "50ec0496-d206-40a8-9fe4-d31777f1055a",
   "metadata": {},
   "outputs": [
    {
     "name": "stdout",
     "output_type": "stream",
     "text": [
      "Found CIFAR10 under C:\\AI\\datasets\\CIFAR10\n",
      "Files already downloaded and verified\n",
      "Found CIFAR10 under C:\\AI\\datasets\\CIFAR10\n",
      "Files already downloaded and verified\n"
     ]
    }
   ],
   "source": [
    "train_dl = torch.utils.data.DataLoader(dataset=CIFAR10(train=True), batch_size=64, num_workers=4, shuffle=True)\n",
    "valid_dl = torch.utils.data.DataLoader(dataset=CIFAR10(train=False), batch_size=32, num_workers=4, shuffle=False)"
   ]
  },
  {
   "cell_type": "code",
   "execution_count": 4,
   "id": "1b3b519f-e993-4d98-996c-96597f07a438",
   "metadata": {},
   "outputs": [],
   "source": [
    "model = MobileNetSmallV3(pretrained=True)\n",
    "optim = torch.optim.Adam(model.classifier.parameters(), lr=0.01) #optim = torch.optim.Adam(model.parameters())\n",
    "loss_func = torch.nn.CrossEntropyLoss()"
   ]
  },
  {
   "cell_type": "code",
   "execution_count": 5,
   "id": "b1aa8f49-4f00-4818-b685-e6bf07e91096",
   "metadata": {},
   "outputs": [
    {
     "name": "stdout",
     "output_type": "stream",
     "text": [
      "\u001b[93mGPU NOT AVAILABLE, USING CPU!\n",
      "\u001b[0m"
     ]
    }
   ],
   "source": [
    "trainer = Trainer(model, '.', optim, loss_func, save_freq=10)"
   ]
  },
  {
   "cell_type": "code",
   "execution_count": null,
   "id": "75a461e6-5c03-48fd-a6a7-3dee91942742",
   "metadata": {},
   "outputs": [],
   "source": [
    "trainer.run_epochs(train_dl, valid_dl, epochs=25)"
   ]
  },
  {
   "cell_type": "code",
   "execution_count": 6,
   "id": "e4ac4167-3017-4380-aa96-61fcbef1d587",
   "metadata": {},
   "outputs": [
    {
     "name": "stdout",
     "output_type": "stream",
     "text": [
      "VAL: 100%|==================================================================================================================================================| 313/313 [02:32<00:00,  2.05it/s, loss=0.0183, top1=0.801, top5=0.988]\n"
     ]
    },
    {
     "data": {
      "text/plain": [
       "{'val_loss': 0.018288881131135432,\n",
       " 'val_acc1': 0.8006190095846645,\n",
       " 'val_acc5': 0.9876198083067095}"
      ]
     },
     "execution_count": 6,
     "metadata": {},
     "output_type": "execute_result"
    }
   ],
   "source": [
    "trainer.evaluate(valid_dl)"
   ]
  },
  {
   "cell_type": "code",
   "execution_count": null,
   "id": "b6a4a58b-5cee-40ef-a8b9-210bb7faeead",
   "metadata": {},
   "outputs": [],
   "source": []
  }
 ],
 "metadata": {
  "kernelspec": {
   "display_name": "Python 3 (ipykernel)",
   "language": "python",
   "name": "python3"
  },
  "language_info": {
   "codemirror_mode": {
    "name": "ipython",
    "version": 3
   },
   "file_extension": ".py",
   "mimetype": "text/x-python",
   "name": "python",
   "nbconvert_exporter": "python",
   "pygments_lexer": "ipython3",
   "version": "3.10.12"
  }
 },
 "nbformat": 4,
 "nbformat_minor": 5
}
