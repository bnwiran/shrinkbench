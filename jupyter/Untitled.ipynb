{
 "cells": [
  {
   "cell_type": "code",
   "execution_count": 1,
   "id": "cd691415-7c36-4d03-91c6-500f4d5872e6",
   "metadata": {},
   "outputs": [],
   "source": [
    "import os\n",
    "from IPython.display import clear_output\n",
    "\n",
    "os.chdir('C:/AI/projects')\n",
    "os.environ['DATAPATH'] = 'C:/AI/datasets'"
   ]
  },
  {
   "cell_type": "code",
   "execution_count": 2,
   "id": "c53f97a0-7343-4367-9ce7-50516de9e73c",
   "metadata": {},
   "outputs": [],
   "source": [
    "from shrinkbench.models import MnistNet, MobileNetSmallV3\n",
    "from shrinkbench.datasets import MNIST, CIFAR10\n",
    "from shrinkbench.experiment.train import Trainer\n",
    "import torch\n",
    "from torchvision import datasets, models, transforms"
   ]
  },
  {
   "cell_type": "code",
   "execution_count": 3,
   "id": "50ec0496-d206-40a8-9fe4-d31777f1055a",
   "metadata": {},
   "outputs": [
    {
     "name": "stdout",
     "output_type": "stream",
     "text": [
      "Found CIFAR10 under C:\\AI\\datasets\\CIFAR10\n",
      "Found CIFAR10 under C:\\AI\\datasets\\CIFAR10\n"
     ]
    }
   ],
   "source": [
    "train_dl = torch.utils.data.DataLoader(dataset=CIFAR10(train=True), batch_size=16, num_workers=4, shuffle=True)\n",
    "valid_dl = torch.utils.data.DataLoader(dataset=CIFAR10(train=False), batch_size=16, num_workers=4, shuffle=False)"
   ]
  },
  {
   "cell_type": "code",
   "execution_count": 4,
   "id": "1b3b519f-e993-4d98-996c-96597f07a438",
   "metadata": {},
   "outputs": [],
   "source": [
    "model = MobileNetSmallV3(pretrained=True)\n",
    "optim = torch.optim.Adam(model.parameters())\n",
    "loss_func = torch.nn.CrossEntropyLoss()"
   ]
  },
  {
   "cell_type": "code",
   "execution_count": 5,
   "id": "b1aa8f49-4f00-4818-b685-e6bf07e91096",
   "metadata": {},
   "outputs": [
    {
     "name": "stdout",
     "output_type": "stream",
     "text": [
      "\u001b[93mGPU NOT AVAILABLE, USING CPU!\n",
      "\u001b[0m"
     ]
    }
   ],
   "source": [
    "trainer = Trainer(model, '.', optim, loss_func, save_freq=10)"
   ]
  },
  {
   "cell_type": "code",
   "execution_count": null,
   "id": "75a461e6-5c03-48fd-a6a7-3dee91942742",
   "metadata": {},
   "outputs": [
    {
     "name": "stdout",
     "output_type": "stream",
     "text": [
      "TRAIN Epoch 1/25: 100%|=====================================================================================================================================| 3125/3125 [02:17<00:00, 22.70it/s, loss=0.168, top1=0.201, top5=0.69]\n",
      "VAL: 100%|===================================================================================================================================================| 625/625 [00:31<00:00, 20.02it/s, loss=0.129, top1=0.257, top5=0.767]\n",
      "checkpoints\n",
      "TRAIN Epoch 2/25: 100%|====================================================================================================================================| 3125/3125 [02:15<00:00, 23.07it/s, loss=0.132, top1=0.234, top5=0.738]\n",
      "VAL: 100%|===================================================================================================================================================| 625/625 [00:28<00:00, 21.94it/s, loss=0.126, top1=0.271, top5=0.779]\n",
      "checkpoints\n",
      "TRAIN Epoch 3/25: 100%|====================================================================================================================================| 3125/3125 [02:07<00:00, 24.48it/s, loss=0.131, top1=0.238, top5=0.745]\n",
      "VAL: 100%|====================================================================================================================================================| 625/625 [00:28<00:00, 21.70it/s, loss=0.126, top1=0.277, top5=0.78]\n",
      "checkpoints\n",
      "TRAIN Epoch 4/25:   6%|=======>                                                                                                                              | 185/3125 [00:18<01:43, 28.36it/s, loss=0.13, top1=0.252, top5=0.746]"
     ]
    }
   ],
   "source": [
    "trainer.run_epochs(train_dl, valid_dl, epochs=25)"
   ]
  },
  {
   "cell_type": "code",
   "execution_count": null,
   "id": "e4ac4167-3017-4380-aa96-61fcbef1d587",
   "metadata": {},
   "outputs": [],
   "source": [
    "trainer.evaluate(valid_dl)"
   ]
  },
  {
   "cell_type": "code",
   "execution_count": null,
   "id": "9a8c56e3-a33c-4ba4-9e13-f2bc20db4e32",
   "metadata": {},
   "outputs": [],
   "source": []
  }
 ],
 "metadata": {
  "kernelspec": {
   "display_name": "Python 3 (ipykernel)",
   "language": "python",
   "name": "python3"
  },
  "language_info": {
   "codemirror_mode": {
    "name": "ipython",
    "version": 3
   },
   "file_extension": ".py",
   "mimetype": "text/x-python",
   "name": "python",
   "nbconvert_exporter": "python",
   "pygments_lexer": "ipython3",
   "version": "3.10.12"
  }
 },
 "nbformat": 4,
 "nbformat_minor": 5
}
