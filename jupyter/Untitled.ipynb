{
 "cells": [
  {
   "cell_type": "code",
   "execution_count": 1,
   "id": "cd691415-7c36-4d03-91c6-500f4d5872e6",
   "metadata": {},
   "outputs": [],
   "source": [
    "import os\n",
    "from IPython.display import clear_output\n",
    "\n",
    "os.chdir('C:/AI/projects')\n",
    "os.environ['DATAPATH'] = 'C:/AI/datasets'"
   ]
  },
  {
   "cell_type": "code",
   "execution_count": 2,
   "id": "c53f97a0-7343-4367-9ce7-50516de9e73c",
   "metadata": {},
   "outputs": [],
   "source": [
    "from shrinkbench.models import MobileNetSmallV3\n",
    "from shrinkbench.datasets import CIFAR10\n",
    "from shrinkbench.experiment.train import Trainer\n",
    "import torch\n",
    "from torchvision import datasets, transforms"
   ]
  },
  {
   "cell_type": "code",
   "execution_count": 3,
   "id": "50ec0496-d206-40a8-9fe4-d31777f1055a",
   "metadata": {},
   "outputs": [
    {
     "name": "stdout",
     "output_type": "stream",
     "text": [
      "Found CIFAR10 under C:\\AI\\datasets\\CIFAR10\n",
      "Files already downloaded and verified\n",
      "Found CIFAR10 under C:\\AI\\datasets\\CIFAR10\n",
      "Files already downloaded and verified\n"
     ]
    }
   ],
   "source": [
    "train_dl = torch.utils.data.DataLoader(dataset=CIFAR10(train=True), batch_size=64, num_workers=4, shuffle=True)\n",
    "valid_dl = torch.utils.data.DataLoader(dataset=CIFAR10(train=False), batch_size=32, num_workers=4, shuffle=False)"
   ]
  },
  {
   "cell_type": "code",
   "execution_count": 4,
   "id": "1b3b519f-e993-4d98-996c-96597f07a438",
   "metadata": {},
   "outputs": [],
   "source": [
    "model = MobileNetSmallV3(pretrained=False)\n",
    "optim = torch.optim.Adam(model.classifier.parameters(), lr=0.01) #optim = torch.optim.Adam(model.parameters())\n",
    "loss_func = torch.nn.CrossEntropyLoss()"
   ]
  },
  {
   "cell_type": "code",
   "execution_count": 5,
   "id": "b1aa8f49-4f00-4818-b685-e6bf07e91096",
   "metadata": {},
   "outputs": [
    {
     "name": "stdout",
     "output_type": "stream",
     "text": [
      "\u001b[93mGPU NOT AVAILABLE, USING CPU!\n",
      "\u001b[0m"
     ]
    }
   ],
   "source": [
    "trainer = Trainer(model, '.', optim, loss_func, save_freq=10)"
   ]
  },
  {
   "cell_type": "code",
   "execution_count": null,
   "id": "75a461e6-5c03-48fd-a6a7-3dee91942742",
   "metadata": {},
   "outputs": [
    {
     "name": "stdout",
     "output_type": "stream",
     "text": [
      "TRAIN Epoch 1/25: 100%|=====================================================================================================================================| 782/782 [11:52<00:00,  1.10it/s, loss=0.0217, top1=0.529, top5=0.911]\n",
      "VAL: 100%|==================================================================================================================================================| 313/313 [02:14<00:00,  2.33it/s, loss=0.0254, top1=0.714, top5=0.976]\n",
      "TRAIN Epoch 2/25:  18%|=======================                                                                                                              | 138/782 [02:21<09:32,  1.12it/s, loss=0.0195, top1=0.572, top5=0.922]"
     ]
    }
   ],
   "source": [
    "trainer.run_epochs(train_dl, valid_dl, epochs=25)"
   ]
  },
  {
   "cell_type": "code",
   "execution_count": null,
   "id": "e4ac4167-3017-4380-aa96-61fcbef1d587",
   "metadata": {},
   "outputs": [],
   "source": [
    "trainer.evaluate(valid_dl)"
   ]
  }
 ],
 "metadata": {
  "kernelspec": {
   "display_name": "Python 3 (ipykernel)",
   "language": "python",
   "name": "python3"
  },
  "language_info": {
   "codemirror_mode": {
    "name": "ipython",
    "version": 3
   },
   "file_extension": ".py",
   "mimetype": "text/x-python",
   "name": "python",
   "nbconvert_exporter": "python",
   "pygments_lexer": "ipython3",
   "version": "3.10.12"
  }
 },
 "nbformat": 4,
 "nbformat_minor": 5
}
